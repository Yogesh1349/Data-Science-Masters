{
 "cells": [
  {
   "cell_type": "code",
   "execution_count": 12,
   "id": "bea84053-628e-4469-bdc3-e9e944db53e5",
   "metadata": {},
   "outputs": [],
   "source": [
    "nme=\"Yogesh\"\n",
    "Cmpany=\"training center\""
   ]
  },
  {
   "cell_type": "code",
   "execution_count": 13,
   "id": "bee0c592-461f-45da-a1af-e0c908b06ab7",
   "metadata": {},
   "outputs": [
    {
     "data": {
      "text/plain": [
       "'Yogesh'"
      ]
     },
     "execution_count": 13,
     "metadata": {},
     "output_type": "execute_result"
    }
   ],
   "source": [
    "nme"
   ]
  },
  {
   "cell_type": "code",
   "execution_count": 15,
   "id": "0a6c2c01-15e8-4356-b7eb-8e1cbc02faea",
   "metadata": {},
   "outputs": [
    {
     "data": {
      "text/plain": [
       "'training center'"
      ]
     },
     "execution_count": 15,
     "metadata": {},
     "output_type": "execute_result"
    }
   ],
   "source": [
    "Cmpany"
   ]
  },
  {
   "cell_type": "code",
   "execution_count": 1,
   "id": "9fe4dbc4-ee22-4b9f-815c-c6f807ecf32c",
   "metadata": {},
   "outputs": [],
   "source": [
    "age=32\n"
   ]
  },
  {
   "cell_type": "code",
   "execution_count": 3,
   "id": "b096211b-60f4-4987-8d53-dc37302683c2",
   "metadata": {},
   "outputs": [
    {
     "name": "stdout",
     "output_type": "stream",
     "text": [
      "My age is  32\n"
     ]
    }
   ],
   "source": [
    "print(\"My age is \", age)"
   ]
  },
  {
   "cell_type": "code",
   "execution_count": 5,
   "id": "877f45c5-1795-45b3-9e79-5271da77395a",
   "metadata": {},
   "outputs": [
    {
     "name": "stdout",
     "output_type": "stream",
     "text": [
      " My name is Yogesh and age is 30 \n"
     ]
    }
   ],
   "source": [
    "age = 30\n",
    "name= \"Yogesh\"\n",
    "\n",
    "print(\" My name is {} and age is {} \".format(name,age))"
   ]
  },
  {
   "cell_type": "code",
   "execution_count": 14,
   "id": "aee04e90-c383-4e73-973c-bf574650adf1",
   "metadata": {},
   "outputs": [
    {
     "name": "stdin",
     "output_type": "stream",
     "text": [
      "Enter the age 45\n"
     ]
    },
    {
     "name": "stdout",
     "output_type": "stream",
     "text": [
      "your not allowed\n"
     ]
    }
   ],
   "source": [
    "age = int(input(\"Enter the age\"))\n",
    "\n",
    "if age>=18 and age<=30 :\n",
    "        print(\"Your allowed to vote\")\n",
    "else:\n",
    "    print (\"your not allowed\")"
   ]
  },
  {
   "cell_type": "code",
   "execution_count": 29,
   "id": "89f49da1-d5eb-463d-b163-a22b811ee2ce",
   "metadata": {},
   "outputs": [
    {
     "name": "stdin",
     "output_type": "stream",
     "text": [
      "Enter the price 2000\n"
     ]
    },
    {
     "name": "stdout",
     "output_type": "stream",
     "text": [
      "the price of product is 2000 \n",
      "the discount on the product is 400.0 with disocunt of 20% \n",
      "the final price of the product with discount is 1600.0 \n"
     ]
    }
   ],
   "source": [
    "prdct_price = int(input(\"Enter the price\"))\n",
    "                \n",
    "if prdct_price >=3000:\n",
    "            print(f\"the price of product is {prdct_price} \" )\n",
    "            print(f\"the discount on the product is {(prdct_price)-(prdct_price*0.7)} with disocunt of 30% \" )\n",
    "            print(f\"the final price of the product with discount is {(prdct_price*0.7)} \" )           \n",
    "\n",
    "elif prdct_price >=2000:\n",
    "            print(f\"the price of product is {prdct_price} \" )\n",
    "            print(f\"the discount on the product is {(prdct_price)-(prdct_price*0.8)} with disocunt of 20% \" )\n",
    "            print(f\"the final price of the product with discount is {(prdct_price*0.8)} \" ) \n",
    "elif prdct_price >=1000:\n",
    "            print(f\"the price of product is {prdct_price} \" )\n",
    "            print(f\"the discount on the product is {(prdct_price)-(prdct_price*0.9)} with disocunt of 10% \" )\n",
    "            print(f\"the final price of the product with discount is {(prdct_price*0.9)} \" )   \n",
    "    \n",
    "else:\n",
    "    print(f\"the Price {prdct_price} of the product is very low, can't avail discount \" )\n",
    "            \n",
    "            "
   ]
  },
  {
   "cell_type": "code",
   "execution_count": null,
   "id": "ab88b4e7-93d3-42c2-adcd-3db02b19e743",
   "metadata": {},
   "outputs": [],
   "source": []
  },
  {
   "cell_type": "code",
   "execution_count": null,
   "id": "f980a479-1c80-49da-a1a7-816b30c42417",
   "metadata": {},
   "outputs": [],
   "source": []
  }
 ],
 "metadata": {
  "kernelspec": {
   "display_name": "Python 3 (ipykernel)",
   "language": "python",
   "name": "python3"
  },
  "language_info": {
   "codemirror_mode": {
    "name": "ipython",
    "version": 3
   },
   "file_extension": ".py",
   "mimetype": "text/x-python",
   "name": "python",
   "nbconvert_exporter": "python",
   "pygments_lexer": "ipython3",
   "version": "3.10.8"
  }
 },
 "nbformat": 4,
 "nbformat_minor": 5
}
